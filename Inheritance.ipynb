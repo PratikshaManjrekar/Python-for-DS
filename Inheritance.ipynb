{
 "cells": [
  {
   "cell_type": "markdown",
   "id": "a4efe304",
   "metadata": {},
   "source": [
    "# OOPS Inheritance\n",
    "### - Inheritance is a concept in object oriented programming where existing classes can be modified by a new class. The existing class is called the base class and the new class is called the derived class.\n",
    "### - Inheritance allows us to define a class that inherits all the methods and properties from another class.  Parent class is the class being inherited from, also called base class.  Child class is the class that inherits from another class, also called derived class."
   ]
  },
  {
   "cell_type": "code",
   "execution_count": 11,
   "id": "2d57d2fc",
   "metadata": {},
   "outputs": [],
   "source": [
    "class Car():\n",
    "    def __init__(self,windows,doors,enginetype):\n",
    "        self.windows=windows\n",
    "        self.doors=doors\n",
    "        self.enginetype=enginetype\n",
    "    def drives(self):\n",
    "        print(\"Someone is driving the car\")"
   ]
  },
  {
   "cell_type": "code",
   "execution_count": 14,
   "id": "d655d2d2",
   "metadata": {},
   "outputs": [],
   "source": [
    "class Audi(Car):\n",
    "    def __init__(self,windows,doors,enginetype,ai):\n",
    "        super().__init__(windows,doors,enginetype)\n",
    "        self.ai=ai\n",
    "    def aienabled(self):\n",
    "        print(\"This car drives automatically\")"
   ]
  },
  {
   "cell_type": "code",
   "execution_count": 15,
   "id": "1cac40ed",
   "metadata": {},
   "outputs": [],
   "source": [
    "audi=Audi(4,4,'diesel',True)"
   ]
  },
  {
   "cell_type": "code",
   "execution_count": 5,
   "id": "51697ed9",
   "metadata": {},
   "outputs": [
    {
     "name": "stdout",
     "output_type": "stream",
     "text": [
      "Someone is driving the car\n"
     ]
    }
   ],
   "source": [
    "audi.drives()"
   ]
  },
  {
   "cell_type": "code",
   "execution_count": 7,
   "id": "09c45fc8",
   "metadata": {},
   "outputs": [
    {
     "name": "stdout",
     "output_type": "stream",
     "text": [
      "This car drives automatically\n"
     ]
    }
   ],
   "source": [
    "audi.aienabled()"
   ]
  },
  {
   "cell_type": "code",
   "execution_count": 8,
   "id": "68dc55e2",
   "metadata": {},
   "outputs": [
    {
     "data": {
      "text/plain": [
       "4"
      ]
     },
     "execution_count": 8,
     "metadata": {},
     "output_type": "execute_result"
    }
   ],
   "source": [
    "audi.doors"
   ]
  },
  {
   "cell_type": "code",
   "execution_count": 16,
   "id": "4d744571",
   "metadata": {},
   "outputs": [
    {
     "data": {
      "text/plain": [
       "4"
      ]
     },
     "execution_count": 16,
     "metadata": {},
     "output_type": "execute_result"
    }
   ],
   "source": [
    "audi.windows"
   ]
  },
  {
   "cell_type": "code",
   "execution_count": 17,
   "id": "98e30e63",
   "metadata": {},
   "outputs": [],
   "source": [
    "audi.windows=5"
   ]
  },
  {
   "cell_type": "code",
   "execution_count": 18,
   "id": "8c100e7c",
   "metadata": {},
   "outputs": [
    {
     "data": {
      "text/plain": [
       "5"
      ]
     },
     "execution_count": 18,
     "metadata": {},
     "output_type": "execute_result"
    }
   ],
   "source": [
    "audi.windows"
   ]
  },
  {
   "cell_type": "code",
   "execution_count": null,
   "id": "ccb2b415",
   "metadata": {},
   "outputs": [],
   "source": []
  }
 ],
 "metadata": {
  "kernelspec": {
   "display_name": "Python 3 (ipykernel)",
   "language": "python",
   "name": "python3"
  },
  "language_info": {
   "codemirror_mode": {
    "name": "ipython",
    "version": 3
   },
   "file_extension": ".py",
   "mimetype": "text/x-python",
   "name": "python",
   "nbconvert_exporter": "python",
   "pygments_lexer": "ipython3",
   "version": "3.9.7"
  }
 },
 "nbformat": 4,
 "nbformat_minor": 5
}
